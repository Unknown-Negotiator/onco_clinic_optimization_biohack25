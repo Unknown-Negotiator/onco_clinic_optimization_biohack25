{
 "cells": [
  {
   "cell_type": "code",
   "execution_count": 1,
   "id": "89192edd-13d5-4550-8cac-9fff2b200de7",
   "metadata": {},
   "outputs": [],
   "source": [
    "import pandas as pd\n",
    "import matplotlib.pyplot as plt\n",
    "import numpy as np\n",
    "from datetime import datetime"
   ]
  },
  {
   "cell_type": "code",
   "execution_count": 24,
   "id": "3ed0271d-7321-4013-8198-c5bb2dee9a41",
   "metadata": {},
   "outputs": [],
   "source": [
    "df = pd.read_csv('Hackaton - 2025/Год - 2024 (весь год)/drug_2024.csv')\n",
    "dfl = pd.read_csv('Hackaton - 2025/Год - 2024 (весь год)/lab_2024.csv')\n",
    "dfe = pd.read_csv('Hackaton - 2025/Год - 2024 (весь год)/event_2024_anonim.csv')\n",
    "\n",
    "df = df[df.status==2]\n",
    "df.execution_date = pd.to_datetime(df.execution_date)\n",
    "\n",
    "dfl = dfl[dfl.status == 2]\n",
    "\n",
    "dfe = dfe[dfe['request_type']!='Поликлиника']\n",
    "dfe.hosp_start = pd.to_datetime(dfe.hosp_start)\n",
    "dfe.hosp_end = pd.to_datetime(dfe.hosp_end)\n",
    "\n",
    "df_merged = df.merge(dfe, on='event_id')\n",
    "df_merged.pop('client_id_y')\n",
    "df_merged.rename(columns={'client_id_x': 'client_id'}, inplace=True)"
   ]
  },
  {
   "cell_type": "code",
   "execution_count": 25,
   "id": "79460d91-a2f4-4513-beee-269bfc99e537",
   "metadata": {},
   "outputs": [
    {
     "data": {
      "text/html": [
       "<div>\n",
       "<style scoped>\n",
       "    .dataframe tbody tr th:only-of-type {\n",
       "        vertical-align: middle;\n",
       "    }\n",
       "\n",
       "    .dataframe tbody tr th {\n",
       "        vertical-align: top;\n",
       "    }\n",
       "\n",
       "    .dataframe thead th {\n",
       "        text-align: right;\n",
       "    }\n",
       "</style>\n",
       "<table border=\"1\" class=\"dataframe\">\n",
       "  <thead>\n",
       "    <tr style=\"text-align: right;\">\n",
       "      <th></th>\n",
       "      <th>id</th>\n",
       "      <th>event_id</th>\n",
       "      <th>client_id</th>\n",
       "      <th>mnn</th>\n",
       "      <th>concentration</th>\n",
       "      <th>dose</th>\n",
       "      <th>measure</th>\n",
       "      <th>execution_date</th>\n",
       "      <th>method</th>\n",
       "      <th>status</th>\n",
       "      <th>status_name</th>\n",
       "    </tr>\n",
       "  </thead>\n",
       "  <tbody>\n",
       "    <tr>\n",
       "      <th>12</th>\n",
       "      <td>1214294</td>\n",
       "      <td>20662525</td>\n",
       "      <td>444087</td>\n",
       "      <td>Циклофосфамид</td>\n",
       "      <td>NaN</td>\n",
       "      <td>1000</td>\n",
       "      <td>мг</td>\n",
       "      <td>2024-01-03 10:41:19+00:00</td>\n",
       "      <td>Внутривенный</td>\n",
       "      <td>2</td>\n",
       "      <td>выполнено</td>\n",
       "    </tr>\n",
       "    <tr>\n",
       "      <th>13</th>\n",
       "      <td>1214295</td>\n",
       "      <td>20662525</td>\n",
       "      <td>444087</td>\n",
       "      <td>Натрия хлорид</td>\n",
       "      <td>0.9%</td>\n",
       "      <td>250</td>\n",
       "      <td>мл</td>\n",
       "      <td>2024-01-03 10:41:19+00:00</td>\n",
       "      <td>Внутривенный</td>\n",
       "      <td>2</td>\n",
       "      <td>выполнено</td>\n",
       "    </tr>\n",
       "    <tr>\n",
       "      <th>14</th>\n",
       "      <td>1214296</td>\n",
       "      <td>20662525</td>\n",
       "      <td>444087</td>\n",
       "      <td>Этопозид</td>\n",
       "      <td>NaN</td>\n",
       "      <td>160</td>\n",
       "      <td>мг</td>\n",
       "      <td>2024-01-03 10:45:08+00:00</td>\n",
       "      <td>Внутривенный</td>\n",
       "      <td>2</td>\n",
       "      <td>выполнено</td>\n",
       "    </tr>\n",
       "    <tr>\n",
       "      <th>15</th>\n",
       "      <td>1214297</td>\n",
       "      <td>20662525</td>\n",
       "      <td>444087</td>\n",
       "      <td>Натрия хлорид</td>\n",
       "      <td>0.9%</td>\n",
       "      <td>250</td>\n",
       "      <td>мл</td>\n",
       "      <td>2024-01-03 10:45:08+00:00</td>\n",
       "      <td>Внутривенный</td>\n",
       "      <td>2</td>\n",
       "      <td>выполнено</td>\n",
       "    </tr>\n",
       "    <tr>\n",
       "      <th>16</th>\n",
       "      <td>1214332</td>\n",
       "      <td>20662525</td>\n",
       "      <td>444087</td>\n",
       "      <td>Этопозид</td>\n",
       "      <td>NaN</td>\n",
       "      <td>300</td>\n",
       "      <td>мг</td>\n",
       "      <td>2024-01-03 10:49:05+00:00</td>\n",
       "      <td>Для приема внутрь</td>\n",
       "      <td>2</td>\n",
       "      <td>выполнено</td>\n",
       "    </tr>\n",
       "    <tr>\n",
       "      <th>...</th>\n",
       "      <td>...</td>\n",
       "      <td>...</td>\n",
       "      <td>...</td>\n",
       "      <td>...</td>\n",
       "      <td>...</td>\n",
       "      <td>...</td>\n",
       "      <td>...</td>\n",
       "      <td>...</td>\n",
       "      <td>...</td>\n",
       "      <td>...</td>\n",
       "      <td>...</td>\n",
       "    </tr>\n",
       "    <tr>\n",
       "      <th>1741864</th>\n",
       "      <td>3736572</td>\n",
       "      <td>20751786</td>\n",
       "      <td>502326</td>\n",
       "      <td>Фуросемид</td>\n",
       "      <td>NaN</td>\n",
       "      <td>200</td>\n",
       "      <td>мг</td>\n",
       "      <td>2025-01-28 16:52:31+00:00</td>\n",
       "      <td>Внутривенный длительная</td>\n",
       "      <td>2</td>\n",
       "      <td>выполнено</td>\n",
       "    </tr>\n",
       "    <tr>\n",
       "      <th>1741865</th>\n",
       "      <td>3736573</td>\n",
       "      <td>20751786</td>\n",
       "      <td>502326</td>\n",
       "      <td>Фуросемид</td>\n",
       "      <td>NaN</td>\n",
       "      <td>200</td>\n",
       "      <td>мг</td>\n",
       "      <td>2025-01-29 13:09:05+00:00</td>\n",
       "      <td>Внутривенный длительная</td>\n",
       "      <td>2</td>\n",
       "      <td>выполнено</td>\n",
       "    </tr>\n",
       "    <tr>\n",
       "      <th>1741979</th>\n",
       "      <td>3739874</td>\n",
       "      <td>20751786</td>\n",
       "      <td>502326</td>\n",
       "      <td>Магния сульфат</td>\n",
       "      <td>NaN</td>\n",
       "      <td>10</td>\n",
       "      <td>мл</td>\n",
       "      <td>2025-01-29 19:25:01+00:00</td>\n",
       "      <td>Внутривенный длительная</td>\n",
       "      <td>2</td>\n",
       "      <td>выполнено</td>\n",
       "    </tr>\n",
       "    <tr>\n",
       "      <th>1742010</th>\n",
       "      <td>3739905</td>\n",
       "      <td>20751786</td>\n",
       "      <td>502326</td>\n",
       "      <td>Натрия хлорид</td>\n",
       "      <td>0.9%</td>\n",
       "      <td>250</td>\n",
       "      <td>мл</td>\n",
       "      <td>2025-01-29 19:25:00+00:00</td>\n",
       "      <td>Внутривенный длительная</td>\n",
       "      <td>2</td>\n",
       "      <td>выполнено</td>\n",
       "    </tr>\n",
       "    <tr>\n",
       "      <th>1742106</th>\n",
       "      <td>3748996</td>\n",
       "      <td>20751786</td>\n",
       "      <td>502326</td>\n",
       "      <td>Габапентин</td>\n",
       "      <td>NaN</td>\n",
       "      <td>300</td>\n",
       "      <td>мг</td>\n",
       "      <td>2025-01-30 11:39:11+00:00</td>\n",
       "      <td>Для приема внутрь</td>\n",
       "      <td>2</td>\n",
       "      <td>выполнено</td>\n",
       "    </tr>\n",
       "  </tbody>\n",
       "</table>\n",
       "<p>1076579 rows × 11 columns</p>\n",
       "</div>"
      ],
      "text/plain": [
       "              id  event_id  client_id             mnn concentration  dose  \\\n",
       "12       1214294  20662525     444087   Циклофосфамид           NaN  1000   \n",
       "13       1214295  20662525     444087   Натрия хлорид          0.9%   250   \n",
       "14       1214296  20662525     444087        Этопозид           NaN   160   \n",
       "15       1214297  20662525     444087   Натрия хлорид          0.9%   250   \n",
       "16       1214332  20662525     444087        Этопозид           NaN   300   \n",
       "...          ...       ...        ...             ...           ...   ...   \n",
       "1741864  3736572  20751786     502326       Фуросемид           NaN   200   \n",
       "1741865  3736573  20751786     502326       Фуросемид           NaN   200   \n",
       "1741979  3739874  20751786     502326  Магния сульфат           NaN    10   \n",
       "1742010  3739905  20751786     502326   Натрия хлорид          0.9%   250   \n",
       "1742106  3748996  20751786     502326      Габапентин           NaN   300   \n",
       "\n",
       "        measure            execution_date                   method  status  \\\n",
       "12           мг 2024-01-03 10:41:19+00:00             Внутривенный       2   \n",
       "13           мл 2024-01-03 10:41:19+00:00             Внутривенный       2   \n",
       "14           мг 2024-01-03 10:45:08+00:00             Внутривенный       2   \n",
       "15           мл 2024-01-03 10:45:08+00:00             Внутривенный       2   \n",
       "16           мг 2024-01-03 10:49:05+00:00        Для приема внутрь       2   \n",
       "...         ...                       ...                      ...     ...   \n",
       "1741864      мг 2025-01-28 16:52:31+00:00  Внутривенный длительная       2   \n",
       "1741865      мг 2025-01-29 13:09:05+00:00  Внутривенный длительная       2   \n",
       "1741979      мл 2025-01-29 19:25:01+00:00  Внутривенный длительная       2   \n",
       "1742010      мл 2025-01-29 19:25:00+00:00  Внутривенный длительная       2   \n",
       "1742106      мг 2025-01-30 11:39:11+00:00        Для приема внутрь       2   \n",
       "\n",
       "        status_name  \n",
       "12        выполнено  \n",
       "13        выполнено  \n",
       "14        выполнено  \n",
       "15        выполнено  \n",
       "16        выполнено  \n",
       "...             ...  \n",
       "1741864   выполнено  \n",
       "1741865   выполнено  \n",
       "1741979   выполнено  \n",
       "1742010   выполнено  \n",
       "1742106   выполнено  \n",
       "\n",
       "[1076579 rows x 11 columns]"
      ]
     },
     "execution_count": 25,
     "metadata": {},
     "output_type": "execute_result"
    }
   ],
   "source": [
    "df"
   ]
  },
  {
   "cell_type": "code",
   "execution_count": 26,
   "id": "b250b4e7-5ccf-42ff-8507-39640cd8c084",
   "metadata": {},
   "outputs": [
    {
     "data": {
      "text/html": [
       "<div>\n",
       "<style scoped>\n",
       "    .dataframe tbody tr th:only-of-type {\n",
       "        vertical-align: middle;\n",
       "    }\n",
       "\n",
       "    .dataframe tbody tr th {\n",
       "        vertical-align: top;\n",
       "    }\n",
       "\n",
       "    .dataframe thead th {\n",
       "        text-align: right;\n",
       "    }\n",
       "</style>\n",
       "<table border=\"1\" class=\"dataframe\">\n",
       "  <thead>\n",
       "    <tr style=\"text-align: right;\">\n",
       "      <th></th>\n",
       "      <th>id</th>\n",
       "      <th>event_id</th>\n",
       "      <th>client_id</th>\n",
       "      <th>mnn</th>\n",
       "      <th>concentration</th>\n",
       "      <th>dose</th>\n",
       "      <th>measure</th>\n",
       "      <th>execution_date</th>\n",
       "      <th>method</th>\n",
       "      <th>status</th>\n",
       "      <th>status_name</th>\n",
       "      <th>hosp_start</th>\n",
       "      <th>hosp_end</th>\n",
       "      <th>request_type</th>\n",
       "      <th>event_org_code</th>\n",
       "      <th>icd_codes_anon</th>\n",
       "    </tr>\n",
       "  </thead>\n",
       "  <tbody>\n",
       "    <tr>\n",
       "      <th>0</th>\n",
       "      <td>1214294</td>\n",
       "      <td>20662525</td>\n",
       "      <td>444087</td>\n",
       "      <td>Циклофосфамид</td>\n",
       "      <td>NaN</td>\n",
       "      <td>1000</td>\n",
       "      <td>мг</td>\n",
       "      <td>2024-01-03 10:41:19+00:00</td>\n",
       "      <td>Внутривенный</td>\n",
       "      <td>2</td>\n",
       "      <td>выполнено</td>\n",
       "      <td>2024-01-02 08:00:01+00:00</td>\n",
       "      <td>2024-01-12 14:00:59+00:00</td>\n",
       "      <td>Дневной стационар</td>\n",
       "      <td>02.26</td>\n",
       "      <td>N96, C59</td>\n",
       "    </tr>\n",
       "    <tr>\n",
       "      <th>1</th>\n",
       "      <td>1214295</td>\n",
       "      <td>20662525</td>\n",
       "      <td>444087</td>\n",
       "      <td>Натрия хлорид</td>\n",
       "      <td>0.9%</td>\n",
       "      <td>250</td>\n",
       "      <td>мл</td>\n",
       "      <td>2024-01-03 10:41:19+00:00</td>\n",
       "      <td>Внутривенный</td>\n",
       "      <td>2</td>\n",
       "      <td>выполнено</td>\n",
       "      <td>2024-01-02 08:00:01+00:00</td>\n",
       "      <td>2024-01-12 14:00:59+00:00</td>\n",
       "      <td>Дневной стационар</td>\n",
       "      <td>02.26</td>\n",
       "      <td>N96, C59</td>\n",
       "    </tr>\n",
       "    <tr>\n",
       "      <th>2</th>\n",
       "      <td>1214296</td>\n",
       "      <td>20662525</td>\n",
       "      <td>444087</td>\n",
       "      <td>Этопозид</td>\n",
       "      <td>NaN</td>\n",
       "      <td>160</td>\n",
       "      <td>мг</td>\n",
       "      <td>2024-01-03 10:45:08+00:00</td>\n",
       "      <td>Внутривенный</td>\n",
       "      <td>2</td>\n",
       "      <td>выполнено</td>\n",
       "      <td>2024-01-02 08:00:01+00:00</td>\n",
       "      <td>2024-01-12 14:00:59+00:00</td>\n",
       "      <td>Дневной стационар</td>\n",
       "      <td>02.26</td>\n",
       "      <td>N96, C59</td>\n",
       "    </tr>\n",
       "    <tr>\n",
       "      <th>3</th>\n",
       "      <td>1214297</td>\n",
       "      <td>20662525</td>\n",
       "      <td>444087</td>\n",
       "      <td>Натрия хлорид</td>\n",
       "      <td>0.9%</td>\n",
       "      <td>250</td>\n",
       "      <td>мл</td>\n",
       "      <td>2024-01-03 10:45:08+00:00</td>\n",
       "      <td>Внутривенный</td>\n",
       "      <td>2</td>\n",
       "      <td>выполнено</td>\n",
       "      <td>2024-01-02 08:00:01+00:00</td>\n",
       "      <td>2024-01-12 14:00:59+00:00</td>\n",
       "      <td>Дневной стационар</td>\n",
       "      <td>02.26</td>\n",
       "      <td>N96, C59</td>\n",
       "    </tr>\n",
       "    <tr>\n",
       "      <th>4</th>\n",
       "      <td>1214332</td>\n",
       "      <td>20662525</td>\n",
       "      <td>444087</td>\n",
       "      <td>Этопозид</td>\n",
       "      <td>NaN</td>\n",
       "      <td>300</td>\n",
       "      <td>мг</td>\n",
       "      <td>2024-01-03 10:49:05+00:00</td>\n",
       "      <td>Для приема внутрь</td>\n",
       "      <td>2</td>\n",
       "      <td>выполнено</td>\n",
       "      <td>2024-01-02 08:00:01+00:00</td>\n",
       "      <td>2024-01-12 14:00:59+00:00</td>\n",
       "      <td>Дневной стационар</td>\n",
       "      <td>02.26</td>\n",
       "      <td>N96, C59</td>\n",
       "    </tr>\n",
       "    <tr>\n",
       "      <th>...</th>\n",
       "      <td>...</td>\n",
       "      <td>...</td>\n",
       "      <td>...</td>\n",
       "      <td>...</td>\n",
       "      <td>...</td>\n",
       "      <td>...</td>\n",
       "      <td>...</td>\n",
       "      <td>...</td>\n",
       "      <td>...</td>\n",
       "      <td>...</td>\n",
       "      <td>...</td>\n",
       "      <td>...</td>\n",
       "      <td>...</td>\n",
       "      <td>...</td>\n",
       "      <td>...</td>\n",
       "      <td>...</td>\n",
       "    </tr>\n",
       "    <tr>\n",
       "      <th>1076574</th>\n",
       "      <td>3736572</td>\n",
       "      <td>20751786</td>\n",
       "      <td>502326</td>\n",
       "      <td>Фуросемид</td>\n",
       "      <td>NaN</td>\n",
       "      <td>200</td>\n",
       "      <td>мг</td>\n",
       "      <td>2025-01-28 16:52:31+00:00</td>\n",
       "      <td>Внутривенный длительная</td>\n",
       "      <td>2</td>\n",
       "      <td>выполнено</td>\n",
       "      <td>2024-12-27 10:56:15+00:00</td>\n",
       "      <td>2025-01-30 14:00:59+00:00</td>\n",
       "      <td>Круглосуточный стационар</td>\n",
       "      <td>02.31</td>\n",
       "      <td>S55, K33, B06, R14, K01, F42, M82, Z50, S38, G...</td>\n",
       "    </tr>\n",
       "    <tr>\n",
       "      <th>1076575</th>\n",
       "      <td>3736573</td>\n",
       "      <td>20751786</td>\n",
       "      <td>502326</td>\n",
       "      <td>Фуросемид</td>\n",
       "      <td>NaN</td>\n",
       "      <td>200</td>\n",
       "      <td>мг</td>\n",
       "      <td>2025-01-29 13:09:05+00:00</td>\n",
       "      <td>Внутривенный длительная</td>\n",
       "      <td>2</td>\n",
       "      <td>выполнено</td>\n",
       "      <td>2024-12-27 10:56:15+00:00</td>\n",
       "      <td>2025-01-30 14:00:59+00:00</td>\n",
       "      <td>Круглосуточный стационар</td>\n",
       "      <td>02.31</td>\n",
       "      <td>S55, K33, B06, R14, K01, F42, M82, Z50, S38, G...</td>\n",
       "    </tr>\n",
       "    <tr>\n",
       "      <th>1076576</th>\n",
       "      <td>3739874</td>\n",
       "      <td>20751786</td>\n",
       "      <td>502326</td>\n",
       "      <td>Магния сульфат</td>\n",
       "      <td>NaN</td>\n",
       "      <td>10</td>\n",
       "      <td>мл</td>\n",
       "      <td>2025-01-29 19:25:01+00:00</td>\n",
       "      <td>Внутривенный длительная</td>\n",
       "      <td>2</td>\n",
       "      <td>выполнено</td>\n",
       "      <td>2024-12-27 10:56:15+00:00</td>\n",
       "      <td>2025-01-30 14:00:59+00:00</td>\n",
       "      <td>Круглосуточный стационар</td>\n",
       "      <td>02.31</td>\n",
       "      <td>S55, K33, B06, R14, K01, F42, M82, Z50, S38, G...</td>\n",
       "    </tr>\n",
       "    <tr>\n",
       "      <th>1076577</th>\n",
       "      <td>3739905</td>\n",
       "      <td>20751786</td>\n",
       "      <td>502326</td>\n",
       "      <td>Натрия хлорид</td>\n",
       "      <td>0.9%</td>\n",
       "      <td>250</td>\n",
       "      <td>мл</td>\n",
       "      <td>2025-01-29 19:25:00+00:00</td>\n",
       "      <td>Внутривенный длительная</td>\n",
       "      <td>2</td>\n",
       "      <td>выполнено</td>\n",
       "      <td>2024-12-27 10:56:15+00:00</td>\n",
       "      <td>2025-01-30 14:00:59+00:00</td>\n",
       "      <td>Круглосуточный стационар</td>\n",
       "      <td>02.31</td>\n",
       "      <td>S55, K33, B06, R14, K01, F42, M82, Z50, S38, G...</td>\n",
       "    </tr>\n",
       "    <tr>\n",
       "      <th>1076578</th>\n",
       "      <td>3748996</td>\n",
       "      <td>20751786</td>\n",
       "      <td>502326</td>\n",
       "      <td>Габапентин</td>\n",
       "      <td>NaN</td>\n",
       "      <td>300</td>\n",
       "      <td>мг</td>\n",
       "      <td>2025-01-30 11:39:11+00:00</td>\n",
       "      <td>Для приема внутрь</td>\n",
       "      <td>2</td>\n",
       "      <td>выполнено</td>\n",
       "      <td>2024-12-27 10:56:15+00:00</td>\n",
       "      <td>2025-01-30 14:00:59+00:00</td>\n",
       "      <td>Круглосуточный стационар</td>\n",
       "      <td>02.31</td>\n",
       "      <td>S55, K33, B06, R14, K01, F42, M82, Z50, S38, G...</td>\n",
       "    </tr>\n",
       "  </tbody>\n",
       "</table>\n",
       "<p>1076579 rows × 16 columns</p>\n",
       "</div>"
      ],
      "text/plain": [
       "              id  event_id  client_id             mnn concentration  dose  \\\n",
       "0        1214294  20662525     444087   Циклофосфамид           NaN  1000   \n",
       "1        1214295  20662525     444087   Натрия хлорид          0.9%   250   \n",
       "2        1214296  20662525     444087        Этопозид           NaN   160   \n",
       "3        1214297  20662525     444087   Натрия хлорид          0.9%   250   \n",
       "4        1214332  20662525     444087        Этопозид           NaN   300   \n",
       "...          ...       ...        ...             ...           ...   ...   \n",
       "1076574  3736572  20751786     502326       Фуросемид           NaN   200   \n",
       "1076575  3736573  20751786     502326       Фуросемид           NaN   200   \n",
       "1076576  3739874  20751786     502326  Магния сульфат           NaN    10   \n",
       "1076577  3739905  20751786     502326   Натрия хлорид          0.9%   250   \n",
       "1076578  3748996  20751786     502326      Габапентин           NaN   300   \n",
       "\n",
       "        measure            execution_date                   method  status  \\\n",
       "0            мг 2024-01-03 10:41:19+00:00             Внутривенный       2   \n",
       "1            мл 2024-01-03 10:41:19+00:00             Внутривенный       2   \n",
       "2            мг 2024-01-03 10:45:08+00:00             Внутривенный       2   \n",
       "3            мл 2024-01-03 10:45:08+00:00             Внутривенный       2   \n",
       "4            мг 2024-01-03 10:49:05+00:00        Для приема внутрь       2   \n",
       "...         ...                       ...                      ...     ...   \n",
       "1076574      мг 2025-01-28 16:52:31+00:00  Внутривенный длительная       2   \n",
       "1076575      мг 2025-01-29 13:09:05+00:00  Внутривенный длительная       2   \n",
       "1076576      мл 2025-01-29 19:25:01+00:00  Внутривенный длительная       2   \n",
       "1076577      мл 2025-01-29 19:25:00+00:00  Внутривенный длительная       2   \n",
       "1076578      мг 2025-01-30 11:39:11+00:00        Для приема внутрь       2   \n",
       "\n",
       "        status_name                hosp_start                  hosp_end  \\\n",
       "0         выполнено 2024-01-02 08:00:01+00:00 2024-01-12 14:00:59+00:00   \n",
       "1         выполнено 2024-01-02 08:00:01+00:00 2024-01-12 14:00:59+00:00   \n",
       "2         выполнено 2024-01-02 08:00:01+00:00 2024-01-12 14:00:59+00:00   \n",
       "3         выполнено 2024-01-02 08:00:01+00:00 2024-01-12 14:00:59+00:00   \n",
       "4         выполнено 2024-01-02 08:00:01+00:00 2024-01-12 14:00:59+00:00   \n",
       "...             ...                       ...                       ...   \n",
       "1076574   выполнено 2024-12-27 10:56:15+00:00 2025-01-30 14:00:59+00:00   \n",
       "1076575   выполнено 2024-12-27 10:56:15+00:00 2025-01-30 14:00:59+00:00   \n",
       "1076576   выполнено 2024-12-27 10:56:15+00:00 2025-01-30 14:00:59+00:00   \n",
       "1076577   выполнено 2024-12-27 10:56:15+00:00 2025-01-30 14:00:59+00:00   \n",
       "1076578   выполнено 2024-12-27 10:56:15+00:00 2025-01-30 14:00:59+00:00   \n",
       "\n",
       "                     request_type event_org_code  \\\n",
       "0               Дневной стационар          02.26   \n",
       "1               Дневной стационар          02.26   \n",
       "2               Дневной стационар          02.26   \n",
       "3               Дневной стационар          02.26   \n",
       "4               Дневной стационар          02.26   \n",
       "...                           ...            ...   \n",
       "1076574  Круглосуточный стационар          02.31   \n",
       "1076575  Круглосуточный стационар          02.31   \n",
       "1076576  Круглосуточный стационар          02.31   \n",
       "1076577  Круглосуточный стационар          02.31   \n",
       "1076578  Круглосуточный стационар          02.31   \n",
       "\n",
       "                                            icd_codes_anon  \n",
       "0                                                 N96, C59  \n",
       "1                                                 N96, C59  \n",
       "2                                                 N96, C59  \n",
       "3                                                 N96, C59  \n",
       "4                                                 N96, C59  \n",
       "...                                                    ...  \n",
       "1076574  S55, K33, B06, R14, K01, F42, M82, Z50, S38, G...  \n",
       "1076575  S55, K33, B06, R14, K01, F42, M82, Z50, S38, G...  \n",
       "1076576  S55, K33, B06, R14, K01, F42, M82, Z50, S38, G...  \n",
       "1076577  S55, K33, B06, R14, K01, F42, M82, Z50, S38, G...  \n",
       "1076578  S55, K33, B06, R14, K01, F42, M82, Z50, S38, G...  \n",
       "\n",
       "[1076579 rows x 16 columns]"
      ]
     },
     "execution_count": 26,
     "metadata": {},
     "output_type": "execute_result"
    }
   ],
   "source": [
    "df_merged"
   ]
  },
  {
   "cell_type": "code",
   "execution_count": 191,
   "id": "1bf1c4cb-ada1-4476-b75b-37ead9de5f71",
   "metadata": {},
   "outputs": [],
   "source": [
    "df_merged = df_merged[df_merged.execution_date > df_merged.hosp_start]\n",
    "df_merged = df_merged[df_merged.execution_date < df_merged.hosp_end]"
   ]
  },
  {
   "cell_type": "code",
   "execution_count": 192,
   "id": "d29bddfe-96bd-42bb-9ae2-68e269e7fc08",
   "metadata": {},
   "outputs": [],
   "source": [
    "df_merged_first = df_merged.sort_values('execution_date').drop_duplicates('event_id', keep='first')\n",
    "df_merged_last = df_merged.sort_values('execution_date').drop_duplicates('event_id', keep='last')"
   ]
  },
  {
   "cell_type": "code",
   "execution_count": 193,
   "id": "3b97be0d-e41c-413e-b60f-50c9b8426b43",
   "metadata": {},
   "outputs": [
    {
     "data": {
      "text/plain": [
       "<matplotlib.legend.Legend at 0x2bf580c8790>"
      ]
     },
     "execution_count": 193,
     "metadata": {},
     "output_type": "execute_result"
    },
    {
     "data": {
      "image/png": "[encoded data removed]",
      "text/plain": [
       "<Figure size 640x480 with 1 Axes>"
      ]
     },
     "metadata": {},
     "output_type": "display_data"
    }
   ],
   "source": [
    "df_merged_first['delta_start'] = (df_merged_first['execution_date'] - df_merged_first['hosp_start']).apply(lambda x: x.days)\n",
    "df_merged_last['delta_end'] = (df_merged_last['hosp_end'] - df_merged_last['execution_date']).apply(lambda x: x.days)\n",
    "plt.hist(df_merged_first['delta_start'], bins=30, label='days after start', alpha=0.5)\n",
    "plt.hist(df_merged_last['delta_end'], bins=30, label='days before end', alpha=0.5)\n",
    "plt.yscale('log')\n",
    "plt.plot([3,3], [0, 10**3], color='r', linewidth=3)\n",
    "plt.title('Days before and after first/last drug consumption')\n",
    "plt.legend()"
   ]
  },
  {
   "cell_type": "code",
   "execution_count": 194,
   "id": "1d43a9ba-54ef-4a1c-ba3b-d4d2fe23656e",
   "metadata": {},
   "outputs": [
    {
     "name": "stdout",
     "output_type": "stream",
     "text": [
      "Unefficient start days: 3743\n"
     ]
    }
   ],
   "source": [
    "dfs3 = df_merged_first[df_merged_first['delta_start'] > 3] \n",
    "unef_s = dfs3.delta_start.sum() - 3 * len(dfs3)\n",
    "print('Unefficient start days:', unef_s)"
   ]
  },
  {
   "cell_type": "code",
   "execution_count": 195,
   "id": "5d6df647-31d4-4681-8cfc-964daec505e8",
   "metadata": {},
   "outputs": [
    {
     "name": "stdout",
     "output_type": "stream",
     "text": [
      "Unefficient end days: 4447\n"
     ]
    }
   ],
   "source": [
    "dfe3 = df_merged_last[df_merged_last['delta_end'] > 3] \n",
    "unef_e = dfe3.delta_end.sum() - 3 * len(dfe3)\n",
    "print('Unefficient end days:', unef_e)"
   ]
  },
  {
   "cell_type": "code",
   "execution_count": 196,
   "id": "5bf24a2b-650d-4f9a-a9e5-cc882af81b55",
   "metadata": {},
   "outputs": [
    {
     "name": "stdout",
     "output_type": "stream",
     "text": [
      "Unefficient rate days: 0.06390648896657199\n"
     ]
    }
   ],
   "source": [
    "all_hosp_days = (df_merged_first['hosp_end'] - df_merged_first['hosp_start']).apply(lambda x: x.days).sum()\n",
    "print('Unefficient rate days:', (unef_s + unef_e) / all_hosp_days)"
   ]
  },
  {
   "cell_type": "code",
   "execution_count": 197,
   "id": "f0c78720-4344-48e1-b0da-b18952e59dce",
   "metadata": {},
   "outputs": [
    {
     "name": "stdout",
     "output_type": "stream",
     "text": [
      "Median:  13.0 . Mean:  14.548302872062663\n"
     ]
    },
    {
     "data": {
      "image/png": "[encoded data removed]",
      "text/plain": [
       "<Figure size 640x480 with 1 Axes>"
      ]
     },
     "metadata": {},
     "output_type": "display_data"
    }
   ],
   "source": [
    "plt.title('Total days in hosptial')\n",
    "tdays = (df_merged_first['hosp_end'] - df_merged_first['hosp_start']).apply(lambda x: x.days)\n",
    "plt.hist(tdays, bins=25)\n",
    "print('Median: ', np.median(tdays), '. Mean: ', np.mean(tdays))\n",
    "# plt.yscale('log')"
   ]
  },
  {
   "cell_type": "code",
   "execution_count": 198,
   "id": "fd83e0cb-9179-4157-8745-f3de4d0df4a4",
   "metadata": {},
   "outputs": [
    {
     "name": "stdout",
     "output_type": "stream",
     "text": [
      "The total unefiicient  8190  days\n",
      "It's about  630.0  patients\n",
      "Now total yearly patient number is  3045\n",
      "The hospital could heal + 0.20689655172413793 %\n"
     ]
    }
   ],
   "source": [
    "print('The total unefiicient ', unef_s + unef_e, ' days')\n",
    "print(\"It's about \", np.round((unef_s + unef_e) / np.median(tdays)), ' patients')\n",
    "print(\"Now total yearly patient number is \", df_merged_first.client_id.nunique())\n",
    "print(\"The hospital could heal +\", ((unef_s + unef_e) / np.median(tdays)) / df_merged_first.client_id.nunique(), \"%\")"
   ]
  },
  {
   "cell_type": "code",
   "execution_count": null,
   "id": "a7d2fcbe-4705-4372-b668-a083e53da306",
   "metadata": {},
   "outputs": [],
   "source": []
  },
  {
   "cell_type": "code",
   "execution_count": 199,
   "id": "2cd3b1aa-fdf9-4773-a6b5-35815eb599b2",
   "metadata": {},
   "outputs": [
    {
     "name": "stdout",
     "output_type": "stream",
     "text": [
      "Unefficient start days: 3017\n",
      "Unefficient end days: 1624\n",
      "Unefficient rate days: 0.04855516729091251\n"
     ]
    },
    {
     "data": {
      "image/png": "[encoded data removed]",
      "text/plain": [
       "<Figure size 640x480 with 1 Axes>"
      ]
     },
     "metadata": {},
     "output_type": "display_data"
    }
   ],
   "source": [
    "rtype = 'Круглосуточный стационар'\n",
    "df_merged_first = df_merged[df_merged.request_type==rtype].sort_values('execution_date').drop_duplicates('event_id', keep='first')\n",
    "df_merged_last = df_merged[df_merged.request_type==rtype].sort_values('execution_date').drop_duplicates('event_id', keep='last')\n",
    "df_merged_first['delta_start'] = (df_merged_first['execution_date'] - df_merged_first['hosp_start']).apply(lambda x: x.days)\n",
    "df_merged_last['delta_end'] = (df_merged_last['hosp_end'] - df_merged_last['execution_date']).apply(lambda x: x.days)\n",
    "plt.hist(df_merged_first['delta_start'], bins=30, label='days after start', alpha=0.5)\n",
    "plt.hist(df_merged_last['delta_end'], bins=30, label='days before end', alpha=0.5)\n",
    "# plt.xlim(-1, 45)\n",
    "plt.yscale('log')\n",
    "plt.plot([3,3], [0, 10**3], color='r', linewidth=3)\n",
    "plt.title(rtype+'.Days before and after first/last drug consumption')\n",
    "plt.legend()\n",
    "dfs3 = df_merged_first[df_merged_first['delta_start'] > 3] \n",
    "unef_s = dfs3.delta_start.sum() - 3 * len(dfs3)\n",
    "print('Unefficient start days:', unef_s)\n",
    "dfe3 = df_merged_last[df_merged_last['delta_end'] > 3] \n",
    "unef_e = dfe3.delta_end.sum() - 3 * len(dfe3)\n",
    "print('Unefficient end days:', unef_e)\n",
    "df_merged_first['hosp_dur'] = (df_merged_first['hosp_end'] - df_merged_first['hosp_start']).apply(lambda x: x.days)\n",
    "all_hosp_days = df_merged_first[df_merged_first['hosp_dur'] > 0].hosp_dur.sum()\n",
    "print('Unefficient rate days:', (unef_s + unef_e) / all_hosp_days)"
   ]
  },
  {
   "cell_type": "code",
   "execution_count": 200,
   "id": "3f3d9c00-3aa8-498a-b0d5-ff3ac8946786",
   "metadata": {},
   "outputs": [
    {
     "name": "stdout",
     "output_type": "stream",
     "text": [
      "Median:  12.0 . Mean:  14.59267175572519\n"
     ]
    },
    {
     "data": {
      "image/png": "[encoded data removed]",
      "text/plain": [
       "<Figure size 640x480 with 1 Axes>"
      ]
     },
     "metadata": {},
     "output_type": "display_data"
    }
   ],
   "source": [
    "plt.title(rtype+'. Days in hosptial')\n",
    "tdays = (df_merged_first['hosp_end'] - df_merged_first['hosp_start']).apply(lambda x: x.days)\n",
    "plt.hist(tdays, bins=25)\n",
    "print('Median: ', np.median(tdays), '. Mean: ', np.mean(tdays))"
   ]
  },
  {
   "cell_type": "code",
   "execution_count": 201,
   "id": "5cfd4caf-2c8b-47ad-acf3-f49ae395e919",
   "metadata": {},
   "outputs": [
    {
     "name": "stdout",
     "output_type": "stream",
     "text": [
      "The total unefiicient  4641  days\n",
      "It's about  387.0  patients\n",
      "Now total yearly patient number is  2594\n",
      "The hospital could heal + 0.1490940632228219 %\n"
     ]
    }
   ],
   "source": [
    "print('The total unefiicient ', unef_s + unef_e, ' days')\n",
    "print(\"It's about \", np.round((unef_s + unef_e) / np.median(tdays)), ' patients')\n",
    "print(\"Now total yearly patient number is \", df_merged_first.client_id.nunique())\n",
    "print(\"The hospital could heal +\", ((unef_s + unef_e) / np.median(tdays)) / df_merged_first.client_id.nunique(), \"%\")"
   ]
  },
  {
   "cell_type": "code",
   "execution_count": 202,
   "id": "fad4f4f9-e01e-45b9-806a-2decfc760d11",
   "metadata": {},
   "outputs": [
    {
     "name": "stdout",
     "output_type": "stream",
     "text": [
      "Unefficient start days: 726\n",
      "Unefficient end days: 2823\n",
      "Unefficient rate days: 0.10895192484803831\n"
     ]
    },
    {
     "data": {
      "image/png": "[encoded data removed]",
      "text/plain": [
       "<Figure size 640x480 with 1 Axes>"
      ]
     },
     "metadata": {},
     "output_type": "display_data"
    }
   ],
   "source": [
    "rtype = 'Дневной стационар'\n",
    "df_merged_first = df_merged[df_merged.request_type==rtype].sort_values('execution_date').drop_duplicates('event_id', keep='first')\n",
    "df_merged_last = df_merged[df_merged.request_type==rtype].sort_values('execution_date').drop_duplicates('event_id', keep='last')\n",
    "df_merged_first['delta_start'] = (df_merged_first['execution_date'] - df_merged_first['hosp_start']).apply(lambda x: x.days)\n",
    "df_merged_last['delta_end'] = (df_merged_last['hosp_end'] - df_merged_last['execution_date']).apply(lambda x: x.days)\n",
    "plt.hist(df_merged_first['delta_start'], bins=20, label='days after start', alpha=0.5)\n",
    "plt.hist(df_merged_last['delta_end'], bins=30, label='days before end', alpha=0.5)\n",
    "# plt.xlim(-1, 45)\n",
    "plt.yscale('log')\n",
    "plt.plot([3,3], [0, 10**3], color='r', linewidth=3)\n",
    "plt.title(rtype+'.Days before and after first/last drug consumption')\n",
    "plt.legend()\n",
    "dfs3 = df_merged_first[df_merged_first['delta_start'] > 3] \n",
    "unef_s = dfs3.delta_start.sum() - 3 * len(dfs3)\n",
    "print('Unefficient start days:', unef_s)\n",
    "dfe3 = df_merged_last[df_merged_last['delta_end'] > 3] \n",
    "unef_e = dfe3.delta_end.sum() - 3 * len(dfe3)\n",
    "print('Unefficient end days:', unef_e)\n",
    "df_merged_first['hosp_dur'] = (df_merged_first['hosp_end'] - df_merged_first['hosp_start']).apply(lambda x: x.days)\n",
    "all_hosp_days = df_merged_first[df_merged_first['hosp_dur'] > 0].hosp_dur.sum()\n",
    "print('Unefficient rate days:', (unef_s + unef_e) / all_hosp_days)"
   ]
  },
  {
   "cell_type": "code",
   "execution_count": 203,
   "id": "3e941802-751f-435c-96e3-480239b0af6e",
   "metadata": {},
   "outputs": [
    {
     "name": "stdout",
     "output_type": "stream",
     "text": [
      "Median:  13.0 . Mean:  14.419654714475431\n"
     ]
    },
    {
     "data": {
      "image/png": "[encoded data removed]",
      "text/plain": [
       "<Figure size 640x480 with 1 Axes>"
      ]
     },
     "metadata": {},
     "output_type": "display_data"
    }
   ],
   "source": [
    "plt.title(rtype+'. Days in hosptial')\n",
    "tdays = (df_merged_first['hosp_end'] - df_merged_first['hosp_start']).apply(lambda x: x.days)\n",
    "plt.hist(tdays, bins=25)\n",
    "print('Median: ', np.median(tdays), '. Mean: ', np.mean(tdays))"
   ]
  },
  {
   "cell_type": "code",
   "execution_count": 204,
   "id": "b5273023-517d-4aa6-b8f4-1ae4e2a65e83",
   "metadata": {},
   "outputs": [
    {
     "name": "stdout",
     "output_type": "stream",
     "text": [
      "The total unefiicient  3549  days\n",
      "It's about  273.0  patients\n",
      "Now total yearly patient number is  710\n",
      "The hospital could heal + 0.3845070422535211 %\n"
     ]
    }
   ],
   "source": [
    "print('The total unefiicient ', unef_s + unef_e, ' days')\n",
    "print(\"It's about \", np.round((unef_s + unef_e) / np.median(tdays)), ' patients')\n",
    "print(\"Now total yearly patient number is \", df_merged_first.client_id.nunique())\n",
    "print(\"The hospital could heal +\", ((unef_s + unef_e) / np.median(tdays)) / df_merged_first.client_id.nunique(), \"%\")"
   ]
  },
  {
   "cell_type": "code",
   "execution_count": null,
   "id": "e0f6daf2-e8be-4f20-97f2-92818e123aac",
   "metadata": {},
   "outputs": [],
   "source": []
  },
  {
   "cell_type": "markdown",
   "id": "f358fe77-ba5d-4205-b090-6030ec70a91c",
   "metadata": {},
   "source": [
    "# optimize lab"
   ]
  },
  {
   "cell_type": "code",
   "execution_count": 10,
   "id": "e35d39e7-0769-45ed-98fc-559114ab0677",
   "metadata": {},
   "outputs": [
    {
     "data": {
      "text/html": [
       "<div>\n",
       "<style scoped>\n",
       "    .dataframe tbody tr th:only-of-type {\n",
       "        vertical-align: middle;\n",
       "    }\n",
       "\n",
       "    .dataframe tbody tr th {\n",
       "        vertical-align: top;\n",
       "    }\n",
       "\n",
       "    .dataframe thead th {\n",
       "        text-align: right;\n",
       "    }\n",
       "</style>\n",
       "<table border=\"1\" class=\"dataframe\">\n",
       "  <thead>\n",
       "    <tr style=\"text-align: right;\">\n",
       "      <th></th>\n",
       "      <th>id</th>\n",
       "      <th>event_id</th>\n",
       "      <th>client_id</th>\n",
       "      <th>action_start</th>\n",
       "      <th>action_end</th>\n",
       "      <th>status</th>\n",
       "      <th>status_name</th>\n",
       "      <th>actiontype_id</th>\n",
       "    </tr>\n",
       "  </thead>\n",
       "  <tbody>\n",
       "    <tr>\n",
       "      <th>0</th>\n",
       "      <td>26126530</td>\n",
       "      <td>20662567</td>\n",
       "      <td>413377</td>\n",
       "      <td>2024-01-01T11:37:10Z</td>\n",
       "      <td>NaN</td>\n",
       "      <td>2</td>\n",
       "      <td>закончено</td>\n",
       "      <td>4406</td>\n",
       "    </tr>\n",
       "    <tr>\n",
       "      <th>1</th>\n",
       "      <td>26126531</td>\n",
       "      <td>20662567</td>\n",
       "      <td>413377</td>\n",
       "      <td>2024-01-01T11:37:11Z</td>\n",
       "      <td>NaN</td>\n",
       "      <td>2</td>\n",
       "      <td>закончено</td>\n",
       "      <td>4406</td>\n",
       "    </tr>\n",
       "    <tr>\n",
       "      <th>2</th>\n",
       "      <td>26126532</td>\n",
       "      <td>20662567</td>\n",
       "      <td>413377</td>\n",
       "      <td>2024-01-01T11:37:12Z</td>\n",
       "      <td>2024-01-05T14:45:10Z</td>\n",
       "      <td>2</td>\n",
       "      <td>закончено</td>\n",
       "      <td>4461</td>\n",
       "    </tr>\n",
       "    <tr>\n",
       "      <th>3</th>\n",
       "      <td>26128345</td>\n",
       "      <td>20662567</td>\n",
       "      <td>413377</td>\n",
       "      <td>2024-01-03T06:35:12Z</td>\n",
       "      <td>2024-01-05T14:45:36Z</td>\n",
       "      <td>2</td>\n",
       "      <td>закончено</td>\n",
       "      <td>7132</td>\n",
       "    </tr>\n",
       "    <tr>\n",
       "      <th>4</th>\n",
       "      <td>26128346</td>\n",
       "      <td>20662567</td>\n",
       "      <td>413377</td>\n",
       "      <td>2024-01-03T06:35:13Z</td>\n",
       "      <td>2024-01-05T14:45:25Z</td>\n",
       "      <td>2</td>\n",
       "      <td>закончено</td>\n",
       "      <td>4475</td>\n",
       "    </tr>\n",
       "    <tr>\n",
       "      <th>...</th>\n",
       "      <td>...</td>\n",
       "      <td>...</td>\n",
       "      <td>...</td>\n",
       "      <td>...</td>\n",
       "      <td>...</td>\n",
       "      <td>...</td>\n",
       "      <td>...</td>\n",
       "      <td>...</td>\n",
       "    </tr>\n",
       "    <tr>\n",
       "      <th>473486</th>\n",
       "      <td>27740071</td>\n",
       "      <td>20751909</td>\n",
       "      <td>495972</td>\n",
       "      <td>2024-12-31T09:00:00Z</td>\n",
       "      <td>2024-12-31T10:43:31Z</td>\n",
       "      <td>2</td>\n",
       "      <td>закончено</td>\n",
       "      <td>4421</td>\n",
       "    </tr>\n",
       "    <tr>\n",
       "      <th>473488</th>\n",
       "      <td>27734826</td>\n",
       "      <td>20751910</td>\n",
       "      <td>505827</td>\n",
       "      <td>2024-12-31T09:00:00Z</td>\n",
       "      <td>2024-12-31T11:10:29Z</td>\n",
       "      <td>2</td>\n",
       "      <td>закончено</td>\n",
       "      <td>4418</td>\n",
       "    </tr>\n",
       "    <tr>\n",
       "      <th>473489</th>\n",
       "      <td>27734827</td>\n",
       "      <td>20751910</td>\n",
       "      <td>505827</td>\n",
       "      <td>2024-12-31T09:00:00Z</td>\n",
       "      <td>2024-12-31T09:55:29Z</td>\n",
       "      <td>2</td>\n",
       "      <td>закончено</td>\n",
       "      <td>4406</td>\n",
       "    </tr>\n",
       "    <tr>\n",
       "      <th>473491</th>\n",
       "      <td>27739992</td>\n",
       "      <td>20751910</td>\n",
       "      <td>505827</td>\n",
       "      <td>2024-12-31T09:00:00Z</td>\n",
       "      <td>2024-12-31T10:44:05Z</td>\n",
       "      <td>2</td>\n",
       "      <td>закончено</td>\n",
       "      <td>4421</td>\n",
       "    </tr>\n",
       "    <tr>\n",
       "      <th>473492</th>\n",
       "      <td>27744250</td>\n",
       "      <td>20751910</td>\n",
       "      <td>505827</td>\n",
       "      <td>2025-01-01T13:28:29Z</td>\n",
       "      <td>2025-01-02T12:00:06Z</td>\n",
       "      <td>2</td>\n",
       "      <td>закончено</td>\n",
       "      <td>12276</td>\n",
       "    </tr>\n",
       "  </tbody>\n",
       "</table>\n",
       "<p>451580 rows × 8 columns</p>\n",
       "</div>"
      ],
      "text/plain": [
       "              id  event_id  client_id          action_start  \\\n",
       "0       26126530  20662567     413377  2024-01-01T11:37:10Z   \n",
       "1       26126531  20662567     413377  2024-01-01T11:37:11Z   \n",
       "2       26126532  20662567     413377  2024-01-01T11:37:12Z   \n",
       "3       26128345  20662567     413377  2024-01-03T06:35:12Z   \n",
       "4       26128346  20662567     413377  2024-01-03T06:35:13Z   \n",
       "...          ...       ...        ...                   ...   \n",
       "473486  27740071  20751909     495972  2024-12-31T09:00:00Z   \n",
       "473488  27734826  20751910     505827  2024-12-31T09:00:00Z   \n",
       "473489  27734827  20751910     505827  2024-12-31T09:00:00Z   \n",
       "473491  27739992  20751910     505827  2024-12-31T09:00:00Z   \n",
       "473492  27744250  20751910     505827  2025-01-01T13:28:29Z   \n",
       "\n",
       "                  action_end  status status_name  actiontype_id  \n",
       "0                        NaN       2   закончено           4406  \n",
       "1                        NaN       2   закончено           4406  \n",
       "2       2024-01-05T14:45:10Z       2   закончено           4461  \n",
       "3       2024-01-05T14:45:36Z       2   закончено           7132  \n",
       "4       2024-01-05T14:45:25Z       2   закончено           4475  \n",
       "...                      ...     ...         ...            ...  \n",
       "473486  2024-12-31T10:43:31Z       2   закончено           4421  \n",
       "473488  2024-12-31T11:10:29Z       2   закончено           4418  \n",
       "473489  2024-12-31T09:55:29Z       2   закончено           4406  \n",
       "473491  2024-12-31T10:44:05Z       2   закончено           4421  \n",
       "473492  2025-01-02T12:00:06Z       2   закончено          12276  \n",
       "\n",
       "[451580 rows x 8 columns]"
      ]
     },
     "execution_count": 10,
     "metadata": {},
     "output_type": "execute_result"
    }
   ],
   "source": [
    "dfl"
   ]
  },
  {
   "cell_type": "code",
   "execution_count": 221,
   "id": "e4678e16-b9dd-4760-9b80-f3973884cf1e",
   "metadata": {},
   "outputs": [
    {
     "name": "stderr",
     "output_type": "stream",
     "text": [
      "C:\\Users\\USER\\AppData\\Local\\Temp\\ipykernel_21644\\1696025947.py:3: SettingWithCopyWarning: \n",
      "A value is trying to be set on a copy of a slice from a DataFrame.\n",
      "Try using .loc[row_indexer,col_indexer] = value instead\n",
      "\n",
      "See the caveats in the documentation: https://pandas.pydata.org/pandas-docs/stable/user_guide/indexing.html#returning-a-view-versus-a-copy\n",
      "  dfle.action_start = pd.to_datetime(dfle.action_start)\n",
      "C:\\Users\\USER\\AppData\\Local\\Temp\\ipykernel_21644\\1696025947.py:4: SettingWithCopyWarning: \n",
      "A value is trying to be set on a copy of a slice from a DataFrame.\n",
      "Try using .loc[row_indexer,col_indexer] = value instead\n",
      "\n",
      "See the caveats in the documentation: https://pandas.pydata.org/pandas-docs/stable/user_guide/indexing.html#returning-a-view-versus-a-copy\n",
      "  dfle.action_end = pd.to_datetime(dfle.action_end)\n",
      "C:\\Users\\USER\\AppData\\Local\\Temp\\ipykernel_21644\\1696025947.py:5: SettingWithCopyWarning: \n",
      "A value is trying to be set on a copy of a slice from a DataFrame.\n",
      "Try using .loc[row_indexer,col_indexer] = value instead\n",
      "\n",
      "See the caveats in the documentation: https://pandas.pydata.org/pandas-docs/stable/user_guide/indexing.html#returning-a-view-versus-a-copy\n",
      "  dfle['delta'] = (dfle.action_end - dfle.action_start).apply(lambda x: x.days)\n"
     ]
    }
   ],
   "source": [
    "sum(dfl.action_end.apply(type) == float) / len(dfl.action_end)\n",
    "dfle = dfl[dfl.action_end == dfl.action_end]\n",
    "dfle.action_start = pd.to_datetime(dfle.action_start)\n",
    "dfle.action_end = pd.to_datetime(dfle.action_end)\n",
    "dfle['delta'] = (dfle.action_end - dfle.action_start).apply(lambda x: x.days)\n",
    "\n",
    "# sum(dfl.action_end.apply(type)# / len(dfl.action_end)\n",
    "# sum(dfl.action_end.apply(type)# / len(dfl.action_end)"
   ]
  },
  {
   "cell_type": "code",
   "execution_count": 228,
   "id": "d4a8a70c-8aa0-4f4e-8890-1ee84390df55",
   "metadata": {},
   "outputs": [
    {
     "data": {
      "text/plain": [
       "actiontype_id\n",
       "12495    88.000000\n",
       "8443     84.000000\n",
       "12328    61.000000\n",
       "7714     59.333333\n",
       "12659    50.500000\n",
       "           ...    \n",
       "12434     0.000000\n",
       "6077      0.000000\n",
       "6078      0.000000\n",
       "6079      0.000000\n",
       "8624      0.000000\n",
       "Name: delta, Length: 549, dtype: float64"
      ]
     },
     "execution_count": 228,
     "metadata": {},
     "output_type": "execute_result"
    }
   ],
   "source": [
    "dfle.groupby('actiontype_id').delta.mean().sort_values()[::-1]"
   ]
  },
  {
   "cell_type": "code",
   "execution_count": 235,
   "id": "78f9a964-3d19-431b-b8d6-03c4b58b34fc",
   "metadata": {},
   "outputs": [
    {
     "data": {
      "text/plain": [
       "0.3989071038251366"
      ]
     },
     "execution_count": 235,
     "metadata": {},
     "output_type": "execute_result"
    }
   ],
   "source": [
    "sum(dfle.groupby('actiontype_id').delta.quantile(0.25).sort_values()[::-1] < 3) / dfle.actiontype_id.nunique()"
   ]
  },
  {
   "cell_type": "code",
   "execution_count": 240,
   "id": "3e37fedf-b307-4327-b10a-c7641243c7c3",
   "metadata": {},
   "outputs": [],
   "source": [
    "q25 = dict(dfle.groupby('actiontype_id').delta.quantile(0.25))"
   ]
  },
  {
   "cell_type": "code",
   "execution_count": 252,
   "id": "aa2f1b5f-c9e7-471a-8512-33aedf201771",
   "metadata": {},
   "outputs": [
    {
     "name": "stderr",
     "output_type": "stream",
     "text": [
      "C:\\Users\\USER\\AppData\\Local\\Temp\\ipykernel_21644\\2209606981.py:1: SettingWithCopyWarning: \n",
      "A value is trying to be set on a copy of a slice from a DataFrame.\n",
      "Try using .loc[row_indexer,col_indexer] = value instead\n",
      "\n",
      "See the caveats in the documentation: https://pandas.pydata.org/pandas-docs/stable/user_guide/indexing.html#returning-a-view-versus-a-copy\n",
      "  dfle['q25'] = dfle.actiontype_id.apply(lambda x: q25.get(x))\n",
      "C:\\Users\\USER\\AppData\\Local\\Temp\\ipykernel_21644\\2209606981.py:2: SettingWithCopyWarning: \n",
      "A value is trying to be set on a copy of a slice from a DataFrame.\n",
      "Try using .loc[row_indexer,col_indexer] = value instead\n",
      "\n",
      "See the caveats in the documentation: https://pandas.pydata.org/pandas-docs/stable/user_guide/indexing.html#returning-a-view-versus-a-copy\n",
      "  dfle['is_more'] = (dfle['delta'] - dfle['q25']) > 0\n",
      "C:\\Users\\USER\\AppData\\Local\\Temp\\ipykernel_21644\\2209606981.py:3: SettingWithCopyWarning: \n",
      "A value is trying to be set on a copy of a slice from a DataFrame.\n",
      "Try using .loc[row_indexer,col_indexer] = value instead\n",
      "\n",
      "See the caveats in the documentation: https://pandas.pydata.org/pandas-docs/stable/user_guide/indexing.html#returning-a-view-versus-a-copy\n",
      "  dfle['extra_days'] = (dfle['delta'] - dfle['q25']) * dfle['is_more']\n"
     ]
    }
   ],
   "source": [
    "dfle['q25'] = dfle.actiontype_id.apply(lambda x: q25.get(x))\n",
    "dfle['is_more'] = (dfle['delta'] - dfle['q25']) > 0\n",
    "dfle['extra_days'] = (dfle['delta'] - dfle['q25']) * dfle['is_more']"
   ]
  },
  {
   "cell_type": "code",
   "execution_count": 254,
   "id": "ff99b331-2828-453b-8502-73cdfcaf8e60",
   "metadata": {},
   "outputs": [
    {
     "data": {
      "text/plain": [
       "413423.75"
      ]
     },
     "execution_count": 254,
     "metadata": {},
     "output_type": "execute_result"
    }
   ],
   "source": [
    "# sum((dfle['delta'] - dfle['q25']) > 0)\n",
    "dfle['extra_days'].sum()"
   ]
  },
  {
   "cell_type": "code",
   "execution_count": 246,
   "id": "1434623e-2dea-4af6-a823-f22894ae6732",
   "metadata": {},
   "outputs": [
    {
     "data": {
      "text/plain": [
       "413423.75"
      ]
     },
     "execution_count": 246,
     "metadata": {},
     "output_type": "execute_result"
    }
   ],
   "source": [
    "sum((dfle['delta'] - dfle['q25'])[(dfle['delta'] - dfle['q25']) > 0])"
   ]
  },
  {
   "cell_type": "code",
   "execution_count": null,
   "id": "442654eb-60ee-4e4a-923a-c0cb69b49af1",
   "metadata": {},
   "outputs": [],
   "source": []
  },
  {
   "cell_type": "code",
   "execution_count": null,
   "id": "032af13f-969f-423f-a0ee-540022a6dd1f",
   "metadata": {},
   "outputs": [],
   "source": []
  }
 ],
 "metadata": {
  "kernelspec": {
   "display_name": "Python 3 (ipykernel)",
   "language": "python",
   "name": "python3"
  },
  "language_info": {
   "codemirror_mode": {
    "name": "ipython",
    "version": 3
   },
   "file_extension": ".py",
   "mimetype": "text/x-python",
   "name": "python",
   "nbconvert_exporter": "python",
   "pygments_lexer": "ipython3",
   "version": "3.11.5"
  }
 },
 "nbformat": 4,
 "nbformat_minor": 5
}
